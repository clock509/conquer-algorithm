{
 "cells": [
  {
   "cell_type": "markdown",
   "source": [
    "## 꼭 알아둬야 할 자료 구조: 스택 (Stack)\n",
    "* 데이터를 제한적으로 접근할 수 있는 구조\n",
    "    - 한쪽 끝에서만 자료를 넣거나 뺄 수 있는 구조\n",
    "* <b><u>가장 나중에 쌓은 데이터</u>를 가장 먼저 빼낼 수 있는</b> 데이터 구조\n",
    "  - 큐: FIFO 정책\n",
    "  - 스택: LIFO 정책"
   ],
   "metadata": {
    "collapsed": false
   }
  },
  {
   "cell_type": "markdown",
   "source": [
    "### 1. 스택 구조\n",
    "* 스택은 LIFO(Last In, Fisrt Out) 또는 FILO(First In, Last Out) 데이터 관리 방식을 따름\n",
    "  - LIFO: 마지막에 넣은 데이터를 가장 먼저 추출하는 데이터 관리 정책\n",
    "  - FILO: 처음에 넣은 데이터를 가장 마지막에 추출하는 데이터 관리 정책\n",
    "\n",
    "* 대표적인 스택의 활용\n",
    "  - 컴퓨터 내부의 프로세스 구조의 함수 동작 방식\n",
    "\n",
    "* 주요 기능\n",
    "  - push(): 데이터를 스택에 넣기\n",
    "  - pop(): 데이터를 스택에서 꺼내기\n",
    "\n",
    "* <font color='#BF360C'>Visualgo 사이트에서 시연해보며 이해하기 (push/pop 만 클릭해보며): https://visualgo.net/en/list\n",
    "<br>\n",
    "<img src=\"https://www.fun-coding.org/00_Images/stack.png\" />"
   ],
   "metadata": {
    "collapsed": false
   }
  },
  {
   "cell_type": "markdown",
   "source": [
    "### 2. 스택 구조와 프로세스 스택\n",
    "- 스택 구조는 프로세스 실행 구조의 가장 기본\n",
    "    - 함수 호출시 프로세스 실행 구조를 스택과 비교해서 이해 필요\n",
    "        -> 함수 위에 새 함수가 호출되면, stack의 구조처럼 함수가 맨 위에 쌓인다."
   ],
   "metadata": {
    "collapsed": false
   }
  },
  {
   "cell_type": "code",
   "execution_count": null,
   "outputs": [],
   "source": [
    "# 재귀함수\n",
    "def recursive(data):\n",
    "    if data < 0:\n",
    "        print(\"ended\")\n",
    "    else:\n",
    "        print(data)\n",
    "        recursive(data-1)\n",
    "        print(\"returned \", data)"
   ],
   "metadata": {
    "collapsed": false
   }
  },
  {
   "cell_type": "code",
   "execution_count": 2,
   "outputs": [
    {
     "name": "stdout",
     "output_type": "stream",
     "text": [
      "4\n",
      "3\n",
      "2\n",
      "1\n",
      "0\n",
      "ended\n",
      "returned  0\n",
      "returned  1\n",
      "returned  2\n",
      "returned  3\n",
      "returned  4\n"
     ]
    }
   ],
   "source": [
    "recursive(4)"
   ],
   "metadata": {
    "collapsed": false
   }
  },
  {
   "cell_type": "markdown",
   "source": [
    "### 3. 자료 구조 스택의 장단점\n",
    "- 장점\n",
    "  - 구조가 단순해서, 구현이 쉽다.\n",
    "  - 데이터 저장/읽기 속도가 빠르다.\n",
    "- 단점 (일반적인 스택 구현시)\n",
    "  - 데이터 최대 갯수를 미리 정해야 한다.\n",
    "    - 파이썬의 경우 재귀 함수는 1000번까지만 호출이 가능함\n",
    "  - 저장 공간의 낭비가 발생할 수 있음\n",
    "    - 미리 최대 갯수만큼 저장 공간을 확보해야 함\n",
    "\n",
    "> 스택은 단순하고 빠른 성능을 위해 사용되므로, 보통 배열 구조를 활용해서 구현하는 것이 일반적임.\n",
    "> 이 경우, 위에서 열거한 단점이 있을 수 있음"
   ],
   "metadata": {
    "collapsed": false
   }
  },
  {
   "cell_type": "markdown",
   "source": [
    "### 4. 파이썬 리스트 기능에서 제공하는 메서드로 스택 사용해보기\n",
    "* append(push), pop 메서드 제공"
   ],
   "metadata": {
    "collapsed": false
   }
  },
  {
   "cell_type": "code",
   "execution_count": 7,
   "outputs": [],
   "source": [
    "data_stack = list()\n",
    "data_stack.append(1)\n",
    "data_stack.append(3)\n",
    "data_stack.append(5)"
   ],
   "metadata": {
    "collapsed": false
   }
  },
  {
   "cell_type": "code",
   "execution_count": 8,
   "outputs": [
    {
     "data": {
      "text/plain": "[1, 3, 5]"
     },
     "execution_count": 8,
     "metadata": {},
     "output_type": "execute_result"
    }
   ],
   "source": [
    "data_stack # append(push)한 순서대로 쌓인다."
   ],
   "metadata": {
    "collapsed": false
   }
  },
  {
   "cell_type": "code",
   "execution_count": 9,
   "outputs": [
    {
     "data": {
      "text/plain": "5"
     },
     "execution_count": 9,
     "metadata": {},
     "output_type": "execute_result"
    }
   ],
   "source": [
    "data_stack.pop() # 가장 마지막에 push한 데이터부터 꺼내진다(=LIFO)"
   ],
   "metadata": {
    "collapsed": false
   }
  },
  {
   "cell_type": "code",
   "execution_count": 10,
   "outputs": [
    {
     "data": {
      "text/plain": "[1, 3]"
     },
     "execution_count": 10,
     "metadata": {},
     "output_type": "execute_result"
    }
   ],
   "source": [
    "data_stack"
   ],
   "metadata": {
    "collapsed": false
   }
  },
  {
   "cell_type": "markdown",
   "source": [
    "### 5. 프로그래밍 연습"
   ],
   "metadata": {
    "collapsed": false
   }
  },
  {
   "cell_type": "markdown",
   "source": [
    "<div class=\"alert alert-block alert-warning\">\n",
    "<strong><font color=\"white\" size=\"3em\">연습1: 리스트 변수로 스택을 다루는 pop, push 기능 구현해보기 (pop, push 함수 사용하지 않고 직접 구현해보기)</font></strong><br>\n",
    "\n",
    "</div>"
   ],
   "metadata": {
    "collapsed": false
   }
  },
  {
   "cell_type": "code",
   "execution_count": 33,
   "outputs": [],
   "source": [
    "class Stack:\n",
    "    def __init__(self):\n",
    "        self.stack = []\n",
    "\n",
    "    def push(self, data):\n",
    "        self.stack.append(data)\n",
    "\n",
    "    def pop(self):\n",
    "        del self.stack[-1]\n",
    "        return self.stack\n",
    "\n",
    "    def show(self):\n",
    "        return self.stack"
   ],
   "metadata": {
    "collapsed": false
   }
  },
  {
   "cell_type": "code",
   "execution_count": 34,
   "outputs": [],
   "source": [
    "custom_stack = Stack()"
   ],
   "metadata": {
    "collapsed": false
   }
  },
  {
   "cell_type": "code",
   "execution_count": 35,
   "outputs": [],
   "source": [
    "custom_stack.push(4)\n",
    "custom_stack.push(5)\n",
    "custom_stack.push(6)\n",
    "custom_stack.push(7)"
   ],
   "metadata": {
    "collapsed": false
   }
  },
  {
   "cell_type": "code",
   "execution_count": 36,
   "outputs": [
    {
     "data": {
      "text/plain": "[4, 5, 6, 7]"
     },
     "execution_count": 36,
     "metadata": {},
     "output_type": "execute_result"
    }
   ],
   "source": [
    "custom_stack.show()"
   ],
   "metadata": {
    "collapsed": false
   }
  },
  {
   "cell_type": "code",
   "execution_count": 37,
   "outputs": [
    {
     "data": {
      "text/plain": "[4, 5, 6]"
     },
     "execution_count": 37,
     "metadata": {},
     "output_type": "execute_result"
    }
   ],
   "source": [
    "custom_stack.pop()"
   ],
   "metadata": {
    "collapsed": false
   }
  },
  {
   "cell_type": "code",
   "execution_count": 38,
   "outputs": [
    {
     "data": {
      "text/plain": "[4, 5]"
     },
     "execution_count": 38,
     "metadata": {},
     "output_type": "execute_result"
    }
   ],
   "source": [
    "custom_stack.pop()"
   ],
   "metadata": {
    "collapsed": false
   }
  }
 ],
 "metadata": {
  "kernelspec": {
   "display_name": "Python 3",
   "language": "python",
   "name": "python3"
  },
  "language_info": {
   "codemirror_mode": {
    "name": "ipython",
    "version": 2
   },
   "file_extension": ".py",
   "mimetype": "text/x-python",
   "name": "python",
   "nbconvert_exporter": "python",
   "pygments_lexer": "ipython2",
   "version": "2.7.6"
  }
 },
 "nbformat": 4,
 "nbformat_minor": 0
}
