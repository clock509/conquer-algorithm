{
 "cells": [
  {
   "cell_type": "markdown",
   "source": [
    "## 대표적인 데이터 구조: 링크드 리스트 (Linked List)"
   ],
   "metadata": {
    "collapsed": false
   }
  },
  {
   "cell_type": "markdown",
   "source": [
    "### 1. 링크드 리스트 (Linked List) 구조\n",
    "* 연결 리스트라고도 함\n",
    "* 배열은 순차적으로 연결된 공간에 데이터를 나열하는 데이터 구조\n",
    "* 링크드 리스트는 떨어진 곳에 존재하는 데이터를 화살표로 연결해서 관리하는 데이터 구조\n",
    "    * <b><u>배열</u></b>은 특정한 <b>연결된 공간</b>을 <b>미리 예약해 둔 상태</b>에서 데이터를 읽고 쓰지만,\n",
    "    * <b><u>링크드 리스트</u></b>는 그러한 단점을 극복한 형태로, 미리 예약해 두지 않고 필요할 때마다 데이터를 추가할 수 있는 자료구조이다.\n",
    "* <font color='#BF360C'>본래 C언어에서는 주요한 데이터 구조이지만, 파이썬은 리스트 타입이 링크드 리스트의 기능을 모두 지원</font>"
   ],
   "metadata": {
    "collapsed": false
   }
  },
  {
   "cell_type": "markdown",
   "source": [
    "* 링크드 리스트 기본 구조와 용어\n",
    "  - 노드(Node): 데이터 저장 단위 (데이터값, 포인터) 로 구성\n",
    "  - 포인터(pointer): 각 노드 안에서, 다음이나 이전의 노드와의 연결 정보를 가지고 있는 공간\n",
    "\n",
    "<br>\n",
    "\n",
    "* 일반적인 링크드 리스트 형태\n",
    "    <img src=\"https://www.fun-coding.org/00_Images/linkedlist.png\" />\n",
    "\n",
    "<br>\n",
    "\n",
    "(출처: wikipedia, https://en.wikipedia.org/wiki/Linked_list)"
   ],
   "metadata": {
    "collapsed": false
   }
  },
  {
   "cell_type": "markdown",
   "source": [
    "### 2. 간단한 링크드 리스트 예"
   ],
   "metadata": {
    "collapsed": false
   }
  },
  {
   "cell_type": "markdown",
   "source": [
    "#### Node 구현\n",
    "- 보통 파이썬에서 링크드 리스트 구현시, 파이썬 클래스를 활용함\n",
    "- 파이썬 객체지향 문법 이해 필요\n",
    "- 참고: https://www.fun-coding.org/PL&OOP1-3.html"
   ],
   "metadata": {
    "collapsed": false
   }
  },
  {
   "cell_type": "code",
   "execution_count": 2,
   "outputs": [],
   "source": [
    "class Node:\n",
    "    def __init__(self, data, next_pointer=None):\n",
    "        self.data = data    # value\n",
    "        self.next_pointer = next_pointer    # pointer"
   ],
   "metadata": {
    "collapsed": false
   }
  },
  {
   "cell_type": "markdown",
   "source": [
    "#### Node와 Node 연결하기 (포인터 활용)"
   ],
   "metadata": {
    "collapsed": false
   }
  },
  {
   "cell_type": "code",
   "execution_count": 3,
   "outputs": [],
   "source": [
    "node1 = Node(1)   # value == 1, pointer == None\n",
    "node2 = Node(1)   # value == 1, pointer == None\n",
    "\n",
    "node1.next_pointer = node2  # 사후적으로 포인터 지정\n",
    "head = node1    # 탐색의 편의를 위해, 링크드 리스트의 가장 앞에 있는 노드를 별도의 변수에 저장"
   ],
   "metadata": {
    "collapsed": false
   }
  },
  {
   "cell_type": "markdown",
   "source": [
    "#### 링크드 리스트로 데이터 추가하기"
   ],
   "metadata": {
    "collapsed": false
   }
  },
  {
   "cell_type": "code",
   "execution_count": 1,
   "outputs": [],
   "source": [
    "class Node:\n",
    "    def __init__(self, data, next_pointer=None):\n",
    "        self.data = data\n",
    "        self.next_pointer = next_pointer\n",
    "\n",
    "def add(data):\n",
    "    # 첫 번째 노드로부터 시작하여 마지막 노드까지 포인터를 타고 이동한 후, 마지막 노드(next_pointer == None)에 도달했을 때 새로운 노드 객체를 생성한다.\n",
    "    node = head\n",
    "    while node.next_pointer:\n",
    "        node = node.next_pointer\n",
    "\n",
    "    node.next_pointer = Node(data)"
   ],
   "metadata": {
    "collapsed": false
   }
  },
  {
   "cell_type": "code",
   "execution_count": 2,
   "outputs": [],
   "source": [
    "node1 = Node(1)\n",
    "head = node1\n",
    "\n",
    "# 1이라는 값이 담긴 노드에 각각 2~9의 값을 담은 노드 8개를 추가\n",
    "for index in range(2, 10):\n",
    "    add(index)"
   ],
   "metadata": {
    "collapsed": false
   }
  },
  {
   "cell_type": "markdown",
   "source": [
    "#### 링크드 리스트 데이터 출력하기(검색하기)"
   ],
   "metadata": {
    "collapsed": false
   }
  },
  {
   "cell_type": "code",
   "execution_count": 6,
   "outputs": [
    {
     "name": "stdout",
     "output_type": "stream",
     "text": [
      "1\n",
      "2\n",
      "3\n",
      "4\n",
      "5\n",
      "6\n",
      "7\n",
      "8\n",
      "last node:  9\n"
     ]
    }
   ],
   "source": [
    "node = head\n",
    "while node.next_pointer:\n",
    "    print(node.data)\n",
    "    node = node.next_pointer\n",
    "\n",
    "print('last node: ', node.data)"
   ],
   "metadata": {
    "collapsed": false
   }
  },
  {
   "cell_type": "markdown",
   "source": [
    "### 3. 링크드 리스트의 장단점 (전통적인 C언어에서의 배열과 링크드 리스트)\n",
    "* 장점\n",
    "  - 미리 데이터 공간을 미리 할당하지 않아도 됨\n",
    "    - 배열은 **미리 데이터 공간을 할당** 해야 함\n",
    "* 단점\n",
    "  - 연결을 위한 별도 데이터 공간이 필요하므로, 저장공간 효율이 높지 않음\n",
    "  - 연결 정보를 찾는 시간이 필요하므로 접근 속도가 느림\n",
    "  - 중간 데이터 삭제시, 앞뒤 데이터의 연결을 재구성해야 하는 부가적인 작업 필요"
   ],
   "metadata": {
    "collapsed": false
   }
  },
  {
   "cell_type": "markdown",
   "source": [
    "### 4. 링크드 리스트의 복잡한 기능1 (링크드 리스트 데이터 사이에 데이터를 추가)\n",
    "- 링크드 리스트는 유지 관리에 부가적인 구현이 필요함\n",
    "\n",
    "<img src=\"https://www.fun-coding.org/00_Images/linkedlistadd.png\" />\n",
    "(출처: wikipedia, https://en.wikipedia.org/wiki/Linked_list)"
   ],
   "metadata": {
    "collapsed": false
   }
  },
  {
   "cell_type": "code",
   "execution_count": 3,
   "outputs": [
    {
     "name": "stdout",
     "output_type": "stream",
     "text": [
      "1\n",
      "2\n",
      "3\n",
      "4\n",
      "5\n",
      "6\n",
      "7\n",
      "8\n",
      "last node:  9\n"
     ]
    }
   ],
   "source": [
    "node = head\n",
    "while node.next_pointer:\n",
    "    print(node.data)\n",
    "    node = node.next_pointer\n",
    "\n",
    "print('last node: ', node.data)"
   ],
   "metadata": {
    "collapsed": false
   }
  },
  {
   "cell_type": "code",
   "execution_count": 4,
   "outputs": [],
   "source": [
    "node2 = Node(1.5)"
   ],
   "metadata": {
    "collapsed": false
   }
  },
  {
   "cell_type": "code",
   "execution_count": 6,
   "outputs": [],
   "source": [
    "node = head\n",
    "search = True\n",
    "while search:\n",
    "    if node.data == 1:\n",
    "        search = False\n",
    "    else:\n",
    "        node = node.next_pointer\n",
    "\n",
    "node_next = node.next_pointer\n",
    "node.next_pointer = node2\n",
    "node2.next_pointer = node_next"
   ],
   "metadata": {
    "collapsed": false
   }
  },
  {
   "cell_type": "code",
   "execution_count": 7,
   "outputs": [
    {
     "name": "stdout",
     "output_type": "stream",
     "text": [
      "1\n",
      "1.5\n",
      "2\n",
      "3\n",
      "4\n",
      "5\n",
      "6\n",
      "7\n",
      "8\n",
      "last node:  9\n"
     ]
    }
   ],
   "source": [
    "node = head\n",
    "while node.next_pointer:\n",
    "    print(node.data)\n",
    "    node = node.next_pointer\n",
    "\n",
    "print('last node: ', node.data)"
   ],
   "metadata": {
    "collapsed": false
   }
  },
  {
   "cell_type": "markdown",
   "source": [
    "### 5. 파이썬 객체지향 프로그래밍으로 링크드 리스트 구현하기"
   ],
   "metadata": {
    "collapsed": false
   }
  },
  {
   "cell_type": "code",
   "execution_count": 11,
   "outputs": [],
   "source": [
    "class Node:\n",
    "    def __init__(self, data, next_pointer=None):\n",
    "        self.data = data\n",
    "        self.next_pointer = next_pointer\n",
    "\n",
    "class NodeMgmt:\n",
    "    def __init__(self, data):\n",
    "        self.head = Node(data)  # 맨 앞 노드의 주소\n",
    "\n",
    "    def add(self, data):\n",
    "        if self.head == '' or self.head is None:  # 맨 앞 노드가 없다면, 새로 생성한다.\n",
    "            self.head = Node(data)\n",
    "        else:\n",
    "            node = self.head\n",
    "            while node.next_pointer:\n",
    "                node = node.next_pointer  # 마지막 노드까지 이동\n",
    "            node.next_pointer = Node(data)  # 맨 마지막 노드로 추가\n",
    "\n",
    "    def show(self):\n",
    "        node = self.head\n",
    "        while node:\n",
    "            print(node.data)\n",
    "            node = node.next_pointer"
   ],
   "metadata": {
    "collapsed": false
   }
  },
  {
   "cell_type": "code",
   "execution_count": 12,
   "outputs": [
    {
     "name": "stdout",
     "output_type": "stream",
     "text": [
      "0\n"
     ]
    }
   ],
   "source": [
    "linkedlist1 = NodeMgmt(0)\n",
    "linkedlist1.show()"
   ],
   "metadata": {
    "collapsed": false
   }
  },
  {
   "cell_type": "code",
   "execution_count": 13,
   "outputs": [
    {
     "name": "stdout",
     "output_type": "stream",
     "text": [
      "0\n",
      "1\n",
      "2\n",
      "3\n",
      "4\n",
      "5\n",
      "6\n",
      "7\n",
      "8\n",
      "9\n"
     ]
    }
   ],
   "source": [
    "for data in range(1, 10):\n",
    "    linkedlist1.add(data)\n",
    "linkedlist1.show()"
   ],
   "metadata": {
    "collapsed": false
   }
  },
  {
   "cell_type": "markdown",
   "source": [
    "### 6. 링크드 리스트의 복잡한 기능2 (특정 노드를 삭제)\n",
    "* 삭제의 경우의 수\n",
    "    * head 삭제\n",
    "    * tail 삭제\n",
    "    * 중간 노드 삭제\n",
    "* 다음 코드는 위의 코드에서 delete 메서드만 추가한 것이므로 해당 메서드만 확인하면 됨"
   ],
   "metadata": {
    "collapsed": false
   }
  },
  {
   "cell_type": "code",
   "execution_count": 23,
   "outputs": [],
   "source": [
    "class Node:\n",
    "    def __init__(self, data, next_pointer=None):\n",
    "        self.data = data\n",
    "        self.next_pointer = next_pointer\n",
    "\n",
    "class NodeMgmt:\n",
    "    def __init__(self, data):\n",
    "        self.head = Node(data)  # 맨 앞 노드의 주소\n",
    "\n",
    "    def add(self, data):\n",
    "        if self.head == '' or self.head is None:  # 맨 앞 노드가 없다면, 새로 생성한다.\n",
    "            self.head = Node(data)\n",
    "        else:\n",
    "            node = self.head\n",
    "            while node.next_pointer:\n",
    "                node = node.next_pointer  # 마지막 노드까지 이동\n",
    "            node.next_pointer = Node(data)  # 맨 마지막 노드로 추가\n",
    "\n",
    "    def delete(self, data):\n",
    "        if self.head == '' or self.head is None:\n",
    "            print(\"생성된 노드가 없습니다.\")\n",
    "            return\n",
    "\n",
    "        if self.head.data == data:\n",
    "            temp = self.head\n",
    "            self.head = self.head.next_pointer\n",
    "            del temp\n",
    "        else:\n",
    "            node = self.head\n",
    "            while node.next_pointer:\n",
    "                if node.next_pointer.data == data:\n",
    "                    temp = node.next_pointer\n",
    "                    node.next_pointer = node.next_pointer.next_pointer  # 마지막 노드를 삭제한다면, node.next_pointer.next_pointer 는 None이므로 이를 node.next_pointer에 넣어 node를 마지막 노드로 바꿔버린다.\n",
    "                    del temp\n",
    "                    return\n",
    "                else:\n",
    "                    node = node.next_pointer\n",
    "\n",
    "    def show(self):\n",
    "        node = self.head\n",
    "        while node:\n",
    "            print(node.data)\n",
    "            node = node.next_pointer"
   ],
   "metadata": {
    "collapsed": false
   }
  },
  {
   "cell_type": "markdown",
   "source": [
    "#### 테스트를 위해 1개 노드를 만들어 봄"
   ],
   "metadata": {
    "collapsed": false
   }
  },
  {
   "cell_type": "code",
   "execution_count": 24,
   "outputs": [
    {
     "name": "stdout",
     "output_type": "stream",
     "text": [
      "0\n"
     ]
    }
   ],
   "source": [
    "linkedlist2 = NodeMgmt(0)\n",
    "linkedlist2.show()"
   ],
   "metadata": {
    "collapsed": false
   }
  },
  {
   "cell_type": "markdown",
   "source": [
    "#### head 가 살아있음을 확인"
   ],
   "metadata": {
    "collapsed": false
   }
  },
  {
   "cell_type": "code",
   "execution_count": 25,
   "outputs": [
    {
     "data": {
      "text/plain": "<__main__.Node at 0x14bb6aa30>"
     },
     "execution_count": 25,
     "metadata": {},
     "output_type": "execute_result"
    }
   ],
   "source": [
    "linkedlist2.head"
   ],
   "metadata": {
    "collapsed": false
   }
  },
  {
   "cell_type": "markdown",
   "source": [
    "#### head 를 지워봄(위에서 언급한 경우의 수1)"
   ],
   "metadata": {
    "collapsed": false
   }
  },
  {
   "cell_type": "code",
   "execution_count": 26,
   "outputs": [],
   "source": [
    "linkedlist2.delete(0)"
   ],
   "metadata": {
    "collapsed": false
   }
  },
  {
   "cell_type": "markdown",
   "source": [
    "#### 다음 코드 실행시 아무것도 안나온다는 것은 linkedlist1.head 가 정상적으로 삭제되었음을 의미"
   ],
   "metadata": {
    "collapsed": false
   }
  },
  {
   "cell_type": "code",
   "execution_count": 27,
   "outputs": [],
   "source": [
    "linkedlist2.head"
   ],
   "metadata": {
    "collapsed": false
   }
  },
  {
   "cell_type": "markdown",
   "source": [
    "#### 다시 하나의 노드를 만들어봄"
   ],
   "metadata": {
    "collapsed": false
   }
  },
  {
   "cell_type": "code",
   "execution_count": 28,
   "outputs": [
    {
     "name": "stdout",
     "output_type": "stream",
     "text": [
      "0\n"
     ]
    }
   ],
   "source": [
    "linkedlist2 = NodeMgmt(0)\n",
    "linkedlist2.show()"
   ],
   "metadata": {
    "collapsed": false
   }
  },
  {
   "cell_type": "markdown",
   "source": [
    "#### 이번엔 여러 노드를 더 추가해봄"
   ],
   "metadata": {
    "collapsed": false
   }
  },
  {
   "cell_type": "code",
   "execution_count": 29,
   "outputs": [
    {
     "name": "stdout",
     "output_type": "stream",
     "text": [
      "0\n",
      "1\n",
      "2\n",
      "3\n",
      "4\n",
      "5\n",
      "6\n",
      "7\n",
      "8\n",
      "9\n"
     ]
    }
   ],
   "source": [
    "for data in range(1, 10):\n",
    "    linkedlist2.add(data)\n",
    "linkedlist2.show()"
   ],
   "metadata": {
    "collapsed": false
   }
  },
  {
   "cell_type": "markdown",
   "source": [
    "#### 노드 중에 한개를 삭제함 (위에서 언급한 경우의 수2)"
   ],
   "metadata": {
    "collapsed": false
   }
  },
  {
   "cell_type": "code",
   "execution_count": 30,
   "outputs": [],
   "source": [
    "linkedlist2.delete(4)"
   ],
   "metadata": {
    "collapsed": false
   }
  },
  {
   "cell_type": "markdown",
   "source": [
    "#### 특정 노드가 삭제되었음을 알 수 있음"
   ],
   "metadata": {
    "collapsed": false
   }
  },
  {
   "cell_type": "code",
   "execution_count": 31,
   "outputs": [
    {
     "name": "stdout",
     "output_type": "stream",
     "text": [
      "0\n",
      "1\n",
      "2\n",
      "3\n",
      "5\n",
      "6\n",
      "7\n",
      "8\n",
      "9\n"
     ]
    }
   ],
   "source": [
    "linkedlist2.show()"
   ],
   "metadata": {
    "collapsed": false
   }
  },
  {
   "cell_type": "markdown",
   "source": [
    "<div class=\"alert alert-block alert-warning\">\n",
    "<strong><font color=\"white\" size=\"3em\">연습1: 위 코드에서 노드 데이터가 2인 노드 삭제해보기</font></strong>\n",
    "</div>"
   ],
   "metadata": {
    "collapsed": false
   }
  },
  {
   "cell_type": "code",
   "execution_count": 32,
   "outputs": [
    {
     "name": "stdout",
     "output_type": "stream",
     "text": [
      "0\n",
      "1\n",
      "3\n",
      "5\n",
      "6\n",
      "7\n",
      "8\n",
      "9\n"
     ]
    }
   ],
   "source": [
    "linkedlist2.delete(2)\n",
    "linkedlist2.show()"
   ],
   "metadata": {
    "collapsed": false
   }
  },
  {
   "cell_type": "markdown",
   "source": [
    "<div class=\"alert alert-block alert-warning\">\n",
    "<strong><font color=\"white\" size=\"3em\">연습2: 위 코드에서 노드 데이터가 특정 숫자인 노드를 찾는 함수를 만들고, 테스트해보기</font></strong><br>\n",
    "테스트: 임의로 1 ~ 9까지 데이터를 링크드 리스트에 넣어보고, 데이터 값이 4인 노드의 데이터 값 출력해보기\n",
    "</div>"
   ],
   "metadata": {
    "collapsed": false
   }
  },
  {
   "cell_type": "code",
   "execution_count": 45,
   "outputs": [],
   "source": [
    "class Node:\n",
    "    def __init__(self, data, next_pointer=None):\n",
    "        self.data = data\n",
    "        self.next_pointer = next_pointer\n",
    "\n",
    "class NodeManagement:\n",
    "    def __init__(self, data):\n",
    "        self.head = Node(data)\n",
    "\n",
    "    def add(self, data):\n",
    "        if self.head == \"\" or self.head is None:\n",
    "            self.head = Node(data)\n",
    "        else:\n",
    "            node = self.head\n",
    "            while node.next_pointer:\n",
    "                node = node.next_pointer\n",
    "            node.next_pointer = Node(data)\n",
    "\n",
    "    def delete(self, data):\n",
    "        if data == self.head:\n",
    "            return \"노드가 없어서 삭제할 수 없습니다.\"\n",
    "        else:\n",
    "            if self.head.data == data:\n",
    "                temp = self.head\n",
    "                self.head = self.head.next_pointer\n",
    "                del temp\n",
    "            else:\n",
    "                node = self.head\n",
    "                while node.next_pointer:\n",
    "                    if node.next_pointer.data == data:\n",
    "                        temp = node.next_pointer\n",
    "                        node.next_pointer = node.next_pointer.next_pointer\n",
    "                        del temp\n",
    "                    else:\n",
    "                        node = node.next_pointer\n",
    "\n",
    "\n",
    "    def show_one(self, data):\n",
    "        node = self.head\n",
    "        while node.next_pointer:\n",
    "            if node.data == data:\n",
    "                return node.data\n",
    "            else:\n",
    "                node = node.next_pointer\n",
    "\n",
    "    def show_all(self):\n",
    "        node = self.head\n",
    "        while node:\n",
    "            print(node.data)\n",
    "            node = node.next_pointer"
   ],
   "metadata": {
    "collapsed": false
   }
  },
  {
   "cell_type": "code",
   "execution_count": 46,
   "outputs": [],
   "source": [
    "linkedlist = NodeManagement(1)\n",
    "for data in range(2, 10):\n",
    "    linkedlist.add(data)"
   ],
   "metadata": {
    "collapsed": false
   }
  },
  {
   "cell_type": "code",
   "execution_count": 47,
   "outputs": [
    {
     "name": "stdout",
     "output_type": "stream",
     "text": [
      "1\n",
      "2\n",
      "3\n",
      "4\n",
      "5\n",
      "6\n",
      "7\n",
      "8\n",
      "9\n"
     ]
    }
   ],
   "source": [
    "linkedlist.show_all()"
   ],
   "metadata": {
    "collapsed": false
   }
  },
  {
   "cell_type": "code",
   "execution_count": 48,
   "outputs": [
    {
     "data": {
      "text/plain": "4"
     },
     "execution_count": 48,
     "metadata": {},
     "output_type": "execute_result"
    }
   ],
   "source": [
    "linkedlist.show_one(4)"
   ],
   "metadata": {
    "collapsed": false
   }
  },
  {
   "cell_type": "markdown",
   "source": [
    "### 7. 다양한 링크드 리스트 구조\n",
    "* 더블 링크드 리스트(Doubly linked list) 기본 구조\n",
    "  - 이중 연결 리스트라고도 함\n",
    "  - 장점: 양방향으로 연결되어 있어서 노드 탐색이 양쪽으로 모두 가능\n",
    "  <br>\n",
    "\n",
    "<img src=\"https://www.fun-coding.org/00_Images/doublelinkedlist.png\" />\n",
    "(출처: wikipedia, https://en.wikipedia.org/wiki/Linked_list)"
   ],
   "metadata": {
    "collapsed": false
   }
  },
  {
   "cell_type": "code",
   "execution_count": 51,
   "outputs": [],
   "source": [
    "class Node:\n",
    "    def __init__(self, data, prev_pointer=None, next_pointer=None):\n",
    "        self.prev = prev_pointer\n",
    "        self.next_pointer = next_pointer\n",
    "        self.data = data\n",
    "\n",
    "class NodeMgmt:\n",
    "    def __init__(self, data):\n",
    "        self.head = Node(data)\n",
    "        self.tail = self.head\n",
    "\n",
    "    def insert(self, data):\n",
    "        if self.head is None:\n",
    "            self.head = Node(data)\n",
    "            self.tail = self.head\n",
    "        else:\n",
    "            node = self.head\n",
    "            while node.next_pointer:  # 맨 마지막 노드에서 while문 종료\n",
    "                node = node.next_pointer\n",
    "\n",
    "            new = Node(data)  # 새로운 노드 생성\n",
    "\n",
    "            node.next_pointer = new  # 맨 마지막 노드의 next pointer 주소를 새로운 노드로 지정\n",
    "            new.prev_pointer = node  # 새로운 노드의 이전 노드 주소 지정\n",
    "            self.tail = new  # 전체 노드 중 마지막 노드를 명시\n",
    "\n",
    "    def show_all(self):\n",
    "        node = self.head\n",
    "        while node:\n",
    "            print(node.data)\n",
    "            node = node.next_pointer"
   ],
   "metadata": {
    "collapsed": false
   }
  },
  {
   "cell_type": "code",
   "execution_count": 52,
   "outputs": [
    {
     "name": "stdout",
     "output_type": "stream",
     "text": [
      "0\n",
      "1\n",
      "2\n",
      "3\n",
      "4\n",
      "5\n",
      "6\n",
      "7\n",
      "8\n",
      "9\n"
     ]
    }
   ],
   "source": [
    "double_linked_list = NodeMgmt(0)\n",
    "for data in range(1, 10):\n",
    "    double_linked_list.insert(data)\n",
    "\n",
    "double_linked_list.show_all()"
   ],
   "metadata": {
    "collapsed": false
   }
  },
  {
   "cell_type": "markdown",
   "source": [
    "<div class=\"alert alert-block alert-warning\">\n",
    "    <strong><font color=\"white\" size=\"3em\">연습3-1: 위 코드에서 노드 데이터가 특정 숫자인 노드 앞에 데이터를 추가하는 함수를 만들고, 테스트해보기</font></strong><br>\n",
    "    - 더블 링크드 리스트의 tail 에서부터 뒤로 이동하며, 특정 숫자인 노드를 찾는 방식으로 함수를 구현하기<br>\n",
    "    - 테스트: 임의로 0 ~ 9까지 데이터를 링크드 리스트에 넣어보고, 데이터 값이 2인 노드 앞에 1.5 데이터 값을 가진 노드를 추가해보기\n",
    "</div>\n",
    "<br>\n",
    "<div class=\"alert alert-block alert-warning\">\n",
    "    <strong><font color=\"white\" size=\"3em\">연습3-2: 위 코드에서 검색하는 함수를 만들되, tail에서부터 head로 순회하는 검색 함수를 만들어 보기</font></strong><br>\n",
    "</div>\n",
    "<br>\n",
    "<div class=\"alert alert-block alert-warning\">\n",
    "    <strong><font color=\"white\" size=\"3em\">연습3-3: 위 코드에서 검색하는 함수를 만들되, head에서부터 tail로 순회하는 검색 함수를 만들어 보기</font></strong><br>\n",
    "</div>"
   ],
   "metadata": {
    "collapsed": false
   }
  },
  {
   "cell_type": "code",
   "execution_count": 100,
   "outputs": [],
   "source": [
    "class Node:\n",
    "    def __init__(self, data, prev_pointer=None, next_pointer=None):\n",
    "        self.prev_pointer = prev_pointer\n",
    "        self.next_pointer = next_pointer\n",
    "        self.data = data\n",
    "\n",
    "class NodeMgmt:\n",
    "    def __init__(self, data):\n",
    "        self.head = Node(data)\n",
    "        self.tail = self.head\n",
    "\n",
    "    def insert(self, data):\n",
    "        if self.head is None:\n",
    "            self.head = Node(data)\n",
    "            self.tail = self.head\n",
    "        else:\n",
    "            node = self.head\n",
    "            while node.next_pointer:  # 맨 마지막 노드에서 while문 종료\n",
    "                node = node.next_pointer\n",
    "\n",
    "            new = Node(data)  # 새로운 노드 생성\n",
    "            node.next_pointer = new  # 맨 마지막 노드의 next pointer 주소를 새로운 노드로 지정\n",
    "            new.prev_pointer = node  # 새로운 노드의 이전 노드 주소 지정\n",
    "            self.tail = new  # 전체 노드 중 마지막 노드를 명시\n",
    "\n",
    "    def insert_before_node(self, new_data, node_data: Node):\n",
    "        if self.head is None or self.head == '':\n",
    "            self.head = Node(new_data)\n",
    "            self.tail = self.head\n",
    "        else:\n",
    "            node = self.tail\n",
    "            while node.data != node_data:\n",
    "                node = node.prev_pointer\n",
    "                if node is None: # head까지 모든 노드를 순회했는데 값에 해당하는 노드가 없을 경우:\n",
    "                    return \"node_data에 해당하는 노드가 없습니다.\"\n",
    "\n",
    "            new = Node(new_data)\n",
    "            new.next_pointer = node\n",
    "            new.prev_pointer = node.prev_pointer\n",
    "            if node.prev_pointer is not None:  # node_data가 head인 경우는 prev_pointer가 없다. node_data가 head가 아닌 경우만 아래와 같이 prev_pointer의 next_pointer를 지정한다.\n",
    "                node.prev_pointer.next_pointer = new\n",
    "            node.prev_pointer = new\n",
    "            if self.head.data == node.data:  # node_data가 head라면 new를 새로운 head로 바꿔줘야 한다.\n",
    "                self.head = new\n",
    "\n",
    "    def get_one_from_tail(self, data):\n",
    "        node = self.tail\n",
    "        while node.data != data:\n",
    "            node = node.prev_pointer\n",
    "            if node is None: # head까지 모든 노드를 순회했는데 값에 해당하는 노드가 없을 경우:\n",
    "                return \"해당 데이터를 가진 노드가 없습니다.\"\n",
    "        return node.data\n",
    "\n",
    "        # 모범 답안\n",
    "        # if self.head is None or self.head == \"\":\n",
    "        #     return \"노드가 없어 검색을 할 수 없습니다.\"\n",
    "        # else:\n",
    "        #     node = self.head\n",
    "        #     while node:\n",
    "        #         if node.data == data:\n",
    "        #             return node\n",
    "        #         else:\n",
    "        #             node = node.prev_pointer\n",
    "        #     return \"해당 데이터를 가진 노드가 없습니다.\"\n",
    "\n",
    "    def get_one_from_head(self, data):\n",
    "        node = self.head\n",
    "        while node.data != data:\n",
    "            node = node.next_pointer\n",
    "            if node is None:\n",
    "                return \"해당 데이터를 가진 노드가 없습니다.\"\n",
    "        return node.data\n",
    "\n",
    "        # 모범 답안\n",
    "        # if self.head is None or self.head == \"\":\n",
    "        #     return \"노드가 없어 검색을 할 수 없습니다.\"\n",
    "        # else:\n",
    "        #     node = self.head\n",
    "        #     while node:\n",
    "        #         if node.data == data:\n",
    "        #             return node\n",
    "        #         else:\n",
    "        #             node = node.next_pointer\n",
    "        # return \"해당 데이터를 가진 노드가 없습니다.\"\n",
    "\n",
    "    def show_all(self):\n",
    "        node = self.head\n",
    "        while node:\n",
    "            print(node.data)\n",
    "            node = node.next_pointer"
   ],
   "metadata": {
    "collapsed": false
   }
  },
  {
   "cell_type": "code",
   "execution_count": 101,
   "outputs": [
    {
     "name": "stdout",
     "output_type": "stream",
     "text": [
      "0\n",
      "1\n",
      "2\n",
      "3\n",
      "4\n",
      "5\n",
      "6\n",
      "7\n",
      "8\n",
      "9\n"
     ]
    }
   ],
   "source": [
    "double_linked_list = NodeMgmt(0)\n",
    "for data in range(1, 10):\n",
    "    double_linked_list.insert(data)\n",
    "double_linked_list.show_all()"
   ],
   "metadata": {
    "collapsed": false
   }
  },
  {
   "cell_type": "code",
   "execution_count": 102,
   "outputs": [
    {
     "data": {
      "text/plain": "3"
     },
     "execution_count": 102,
     "metadata": {},
     "output_type": "execute_result"
    }
   ],
   "source": [
    "node_3 = double_linked_list.get_one_from_head(3)\n",
    "node_3"
   ],
   "metadata": {
    "collapsed": false
   }
  },
  {
   "cell_type": "code",
   "execution_count": 103,
   "outputs": [
    {
     "data": {
      "text/plain": "'해당 데이터를 가진 노드가 없습니다.'"
     },
     "execution_count": 103,
     "metadata": {},
     "output_type": "execute_result"
    }
   ],
   "source": [
    "node_11 = double_linked_list.get_one_from_head(11)\n",
    "node_11"
   ],
   "metadata": {
    "collapsed": false
   }
  },
  {
   "cell_type": "code",
   "execution_count": 104,
   "outputs": [
    {
     "data": {
      "text/plain": "4"
     },
     "execution_count": 104,
     "metadata": {},
     "output_type": "execute_result"
    }
   ],
   "source": [
    "node_4 = double_linked_list.get_one_from_tail(4)\n",
    "node_4"
   ],
   "metadata": {
    "collapsed": false
   }
  },
  {
   "cell_type": "code",
   "execution_count": 105,
   "outputs": [
    {
     "data": {
      "text/plain": "'해당 데이터를 가진 노드가 없습니다.'"
     },
     "execution_count": 105,
     "metadata": {},
     "output_type": "execute_result"
    }
   ],
   "source": [
    "node_12 = double_linked_list.get_one_from_tail(12)\n",
    "node_12"
   ],
   "metadata": {
    "collapsed": false
   }
  },
  {
   "cell_type": "code",
   "execution_count": 106,
   "outputs": [],
   "source": [
    "double_linked_list.insert_before_node(1.5, 2)"
   ],
   "metadata": {
    "collapsed": false
   }
  },
  {
   "cell_type": "code",
   "execution_count": 107,
   "outputs": [
    {
     "name": "stdout",
     "output_type": "stream",
     "text": [
      "0\n",
      "1\n",
      "1.5\n",
      "2\n",
      "3\n",
      "4\n",
      "5\n",
      "6\n",
      "7\n",
      "8\n",
      "9\n"
     ]
    }
   ],
   "source": [
    "double_linked_list.show_all()"
   ],
   "metadata": {
    "collapsed": false
   }
  },
  {
   "cell_type": "code",
   "execution_count": 108,
   "outputs": [
    {
     "data": {
      "text/plain": "'node_data에 해당하는 노드가 없습니다.'"
     },
     "execution_count": 108,
     "metadata": {},
     "output_type": "execute_result"
    }
   ],
   "source": [
    "double_linked_list.insert_before_node(-1, 10)"
   ],
   "metadata": {
    "collapsed": false
   }
  },
  {
   "cell_type": "code",
   "execution_count": 109,
   "outputs": [
    {
     "name": "stdout",
     "output_type": "stream",
     "text": [
      "0\n",
      "1\n",
      "1.5\n",
      "2\n",
      "3\n",
      "4\n",
      "5\n",
      "6\n",
      "7\n",
      "8\n",
      "9\n"
     ]
    }
   ],
   "source": [
    "double_linked_list.show_all()"
   ],
   "metadata": {
    "collapsed": false
   }
  },
  {
   "cell_type": "code",
   "execution_count": 110,
   "outputs": [],
   "source": [
    "double_linked_list.insert_before_node(-2, 0)"
   ],
   "metadata": {
    "collapsed": false
   }
  },
  {
   "cell_type": "code",
   "execution_count": 111,
   "outputs": [
    {
     "name": "stdout",
     "output_type": "stream",
     "text": [
      "-2\n",
      "0\n",
      "1\n",
      "1.5\n",
      "2\n",
      "3\n",
      "4\n",
      "5\n",
      "6\n",
      "7\n",
      "8\n",
      "9\n"
     ]
    }
   ],
   "source": [
    "double_linked_list.show_all()"
   ],
   "metadata": {
    "collapsed": false
   }
  },
  {
   "cell_type": "markdown",
   "source": [
    "<div class=\"alert alert-block alert-warning\">\n",
    "<strong><font color=\"white\" size=\"3em\">연습4: 위 코드에서 노드 데이터가 특정 숫자인 노드 뒤에 데이터를 추가하는 함수를 만들고, 테스트해보기</font></strong><br>\n",
    "- 더블 링크드 리스트의 head 에서부터 다음으로 이동하며, 특정 숫자인 노드를 찾는 방식으로 함수를 구현하기<br>\n",
    "- 테스트: 임의로 0 ~ 9까지 데이터를 링크드 리스트에 넣어보고, 데이터 값이 1인 노드 다음에 1.7 데이터 값을 가진 노드를 추가해보기\n",
    "</div>"
   ],
   "metadata": {
    "collapsed": false
   }
  },
  {
   "cell_type": "code",
   "execution_count": 1,
   "outputs": [],
   "source": [
    "class Node:\n",
    "    def __init__(self, data, prev_pointer=None, next_pointer=None):\n",
    "        self.prev_pointer = prev_pointer\n",
    "        self.next_pointer = next_pointer\n",
    "        self.data = data\n",
    "\n",
    "class NodeMgmt:\n",
    "    def __init__(self, data):\n",
    "        self.head = Node(data)\n",
    "        self.tail = self.head\n",
    "\n",
    "    def insert(self, data):\n",
    "        if self.head is None:\n",
    "            self.head = Node(data)\n",
    "            self.tail = self.head\n",
    "        else:\n",
    "            node = self.head\n",
    "            while node.next_pointer:  # 맨 마지막 노드에서 while문 종료\n",
    "                node = node.next_pointer\n",
    "\n",
    "            new = Node(data)  # 새로운 노드 생성\n",
    "            node.next_pointer = new  # 맨 마지막 노드의 next pointer 주소를 새로운 노드로 지정\n",
    "            new.prev_pointer = node  # 새로운 노드의 이전 노드 주소 지정\n",
    "            self.tail = new  # 전체 노드 중 마지막 노드를 명시\n",
    "\n",
    "    def insert_before_node(self, new_data, node_data: Node):\n",
    "        if self.head is None or self.head == '':\n",
    "            self.head = Node(new_data)\n",
    "            self.tail = self.head\n",
    "        else:\n",
    "            node = self.tail\n",
    "            while node.data != node_data:\n",
    "                node = node.prev_pointer\n",
    "                if node is None: # head까지 모든 노드를 순회했는데 값에 해당하는 노드가 없을 경우:\n",
    "                    return \"node_data에 해당하는 노드가 없습니다.\"\n",
    "\n",
    "            new = Node(new_data)\n",
    "            new.next_pointer = node\n",
    "            new.prev_pointer = node.prev_pointer\n",
    "            if node.prev_pointer is not None:  # node_data가 head인 경우는 prev_pointer가 없다. node_data가 head가 아닌 경우만 아래와 같이 prev_pointer의 next_pointer를 지정한다.\n",
    "                node.prev_pointer.next_pointer = new\n",
    "            node.prev_pointer = new\n",
    "            if self.head.data == node.data:  # node_data가 head라면 new를 새로운 head로 바꿔줘야 한다.\n",
    "                self.head = new\n",
    "\n",
    "    def insert_after_node(self, new_data, node_data: Node):\n",
    "        if self.head is None or self.head == '':\n",
    "            self.head = Node(new_data)\n",
    "            self.tail = self.head\n",
    "        else:\n",
    "            node = self.head\n",
    "            while node.data != node_data:\n",
    "                node = node.next_pointer\n",
    "                if node is None:\n",
    "                    return \"node_data에 해당하는 노드가 없습니다.\"\n",
    "\n",
    "            new = Node(new_data)\n",
    "            new.prev_pointer = node\n",
    "            new.next_pointer = node.next_pointer\n",
    "            if node.next_pointer is not None:\n",
    "                node.next_pointer.prev_pointer = new\n",
    "            node.next_pointer = new\n",
    "            if self.tail.data == node.data:\n",
    "                self.tail = new\n",
    "\n",
    "    def get_one_from_tail(self, data):\n",
    "        if self.head is None or self.head == \"\":\n",
    "            return \"노드가 없어 검색을 할 수 없습니다.\"\n",
    "        else:\n",
    "            node = self.head\n",
    "            while node:\n",
    "                if node.data == data:\n",
    "                    return node\n",
    "                else:\n",
    "                    node = node.prev_pointer\n",
    "            return \"해당 데이터를 가진 노드가 없습니다.\"\n",
    "\n",
    "    def get_one_from_head(self, data):\n",
    "        if self.head is None or self.head == \"\":\n",
    "            return \"노드가 없어 검색을 할 수 없습니다.\"\n",
    "        else:\n",
    "            node = self.head\n",
    "            while node:\n",
    "                if node.data == data:\n",
    "                    return node\n",
    "                else:\n",
    "                    node = node.next_pointer\n",
    "        return \"해당 데이터를 가진 노드가 없습니다.\"\n",
    "\n",
    "    def show_all(self):\n",
    "        node = self.head\n",
    "        while node:\n",
    "            print(node.data)\n",
    "            node = node.next_pointer"
   ],
   "metadata": {
    "collapsed": false
   }
  },
  {
   "cell_type": "code",
   "execution_count": 3,
   "outputs": [
    {
     "name": "stdout",
     "output_type": "stream",
     "text": [
      "0\n",
      "1\n",
      "2\n",
      "3\n",
      "4\n",
      "5\n",
      "6\n",
      "7\n",
      "8\n",
      "9\n"
     ]
    }
   ],
   "source": [
    "double_linked_list = NodeMgmt(0)\n",
    "for data in range(1, 10):\n",
    "    double_linked_list.insert(data)\n",
    "\n",
    "double_linked_list.show_all()"
   ],
   "metadata": {
    "collapsed": false
   }
  },
  {
   "cell_type": "code",
   "execution_count": 4,
   "outputs": [],
   "source": [
    "double_linked_list.insert_after_node(1.7, 1)"
   ],
   "metadata": {
    "collapsed": false
   }
  },
  {
   "cell_type": "code",
   "execution_count": 5,
   "outputs": [
    {
     "name": "stdout",
     "output_type": "stream",
     "text": [
      "0\n",
      "1\n",
      "1.7\n",
      "2\n",
      "3\n",
      "4\n",
      "5\n",
      "6\n",
      "7\n",
      "8\n",
      "9\n"
     ]
    }
   ],
   "source": [
    "double_linked_list.show_all()"
   ],
   "metadata": {
    "collapsed": false
   }
  },
  {
   "cell_type": "code",
   "execution_count": 6,
   "outputs": [],
   "source": [
    "double_linked_list.insert_after_node(10, 9)"
   ],
   "metadata": {
    "collapsed": false
   }
  },
  {
   "cell_type": "code",
   "execution_count": 7,
   "outputs": [
    {
     "name": "stdout",
     "output_type": "stream",
     "text": [
      "0\n",
      "1\n",
      "1.7\n",
      "2\n",
      "3\n",
      "4\n",
      "5\n",
      "6\n",
      "7\n",
      "8\n",
      "9\n",
      "10\n"
     ]
    }
   ],
   "source": [
    "double_linked_list.show_all()"
   ],
   "metadata": {
    "collapsed": false
   }
  },
  {
   "cell_type": "code",
   "execution_count": null,
   "outputs": [],
   "source": [
    "double_linked_list.insert_after_node(14, 13)"
   ],
   "metadata": {
    "collapsed": false
   }
  },
  {
   "cell_type": "code",
   "execution_count": 9,
   "outputs": [],
   "source": [
    "double_linked_list.insert_after_node(-1, 0)"
   ],
   "metadata": {
    "collapsed": false
   }
  },
  {
   "cell_type": "code",
   "execution_count": 10,
   "outputs": [
    {
     "name": "stdout",
     "output_type": "stream",
     "text": [
      "0\n",
      "-1\n",
      "1\n",
      "1.7\n",
      "2\n",
      "3\n",
      "4\n",
      "5\n",
      "6\n",
      "7\n",
      "8\n",
      "9\n",
      "10\n"
     ]
    }
   ],
   "source": [
    "double_linked_list.show_all()"
   ],
   "metadata": {
    "collapsed": false
   }
  }
 ],
 "metadata": {
  "kernelspec": {
   "display_name": "Python 3",
   "language": "python",
   "name": "python3"
  },
  "language_info": {
   "codemirror_mode": {
    "name": "ipython",
    "version": 2
   },
   "file_extension": ".py",
   "mimetype": "text/x-python",
   "name": "python",
   "nbconvert_exporter": "python",
   "pygments_lexer": "ipython2",
   "version": "2.7.6"
  }
 },
 "nbformat": 4,
 "nbformat_minor": 0
}
