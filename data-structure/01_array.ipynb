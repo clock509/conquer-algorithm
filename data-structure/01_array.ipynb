{
 "cells": [
  {
   "cell_type": "markdown",
   "source": [
    "## 꼭 알아둬야 할 자료 구조: 배열 (Array)\n",
    "* 데이터를 나열하고, 각 데이터를 <b>인덱스</b>에 대응하도록 구성한 데이터 구조\n",
    "* 파이썬에서는 `리스트(List)` 타입이 배열 기능을 제공함"
   ],
   "metadata": {
    "collapsed": false
   }
  },
  {
   "cell_type": "markdown",
   "source": [
    "### 1. 배열은 왜 필요할까?\n",
    "- 같은 종류의 데이터를 효율적으로 관리하기 위해 사용\n",
    "- 같은 종류의 데이터를 순차적으로 저장\n",
    "- 장점:\n",
    "    - 빠른 접근 가능\n",
    "        - 첫 데이터의 위치에서 상대적인 위치로 데이터 접근(인덱스 번호로 접근)\n",
    "- 단점:\n",
    "    - 데이터 추가/삭제의 어려움\n",
    "    - 미리 최대 길이를 지정해야 함"
   ],
   "metadata": {
    "collapsed": false
   }
  },
  {
   "cell_type": "markdown",
   "source": [
    "### 2. 파이썬, C언어의 배열 예제"
   ],
   "metadata": {
    "collapsed": false
   }
  },
  {
   "cell_type": "markdown",
   "source": [
    "#### C 언어 예: 영어 단어 저장"
   ],
   "metadata": {
    "collapsed": false
   }
  },
  {
   "cell_type": "markdown",
   "source": [
    "#include <stdio.h>\n",
    "\n",
    "int main(int argc, char * argv[])\n",
    "{\n",
    "    char country[3] = \"US\";\n",
    "printf (\"%c%c\\n\", country[0], country[1]);\n",
    "printf (\"%s\\n\", country);\n",
    "return 0;\n",
    "}"
   ],
   "metadata": {
    "collapsed": false
   }
  },
  {
   "cell_type": "markdown",
   "source": [
    "#### 파이썬 언어 예: 영어 단어 저장"
   ],
   "metadata": {
    "collapsed": false
   }
  },
  {
   "cell_type": "code",
   "execution_count": 1,
   "outputs": [
    {
     "name": "stdout",
     "output_type": "stream",
     "text": [
      "US\n"
     ]
    }
   ],
   "source": [
    "country = 'US'\n",
    "print (country)"
   ],
   "metadata": {
    "collapsed": false
   }
  },
  {
   "cell_type": "markdown",
   "source": [
    "### 3. 파이썬과 배열\n",
    "- 파이썬 리스트를 활용"
   ],
   "metadata": {
    "collapsed": false
   }
  },
  {
   "cell_type": "code",
   "execution_count": 2,
   "outputs": [
    {
     "data": {
      "text/plain": "[1, 2, 3, 4, 5]"
     },
     "execution_count": 2,
     "metadata": {},
     "output_type": "execute_result"
    }
   ],
   "source": [
    "# 1차원 배열: 리스트로 구현 시\n",
    "data = [1, 2, 3, 4, 5]\n",
    "data"
   ],
   "metadata": {
    "collapsed": false
   }
  },
  {
   "cell_type": "code",
   "execution_count": 3,
   "outputs": [
    {
     "data": {
      "text/plain": "[[1, 2, 3], [4, 5, 6], [7, 8, 9]]"
     },
     "execution_count": 3,
     "metadata": {},
     "output_type": "execute_result"
    }
   ],
   "source": [
    "# 2차원 배열: 리스트로 구현 시\n",
    "data = [\n",
    "    [1, 2, 3],\n",
    "    [4, 5, 6],\n",
    "    [7, 8, 9]\n",
    "]\n",
    "data"
   ],
   "metadata": {
    "collapsed": false
   }
  },
  {
   "cell_type": "code",
   "execution_count": 4,
   "outputs": [
    {
     "data": {
      "text/plain": "[1, 2, 3]"
     },
     "execution_count": 4,
     "metadata": {},
     "output_type": "execute_result"
    }
   ],
   "source": [
    "data[0]"
   ],
   "metadata": {
    "collapsed": false
   }
  },
  {
   "cell_type": "code",
   "execution_count": 5,
   "outputs": [
    {
     "data": {
      "text/plain": "1"
     },
     "execution_count": 5,
     "metadata": {},
     "output_type": "execute_result"
    }
   ],
   "source": [
    "data[0][0]"
   ],
   "metadata": {
    "collapsed": false
   }
  },
  {
   "cell_type": "markdown",
   "source": [
    "## 프로그래밍 연습"
   ],
   "metadata": {
    "collapsed": false
   }
  },
  {
   "cell_type": "markdown",
   "source": [
    "### 연습 1: 위의 2차원 배열에서 9, 8, 7 순서로 출력해 보기"
   ],
   "metadata": {
    "collapsed": false
   }
  },
  {
   "cell_type": "code",
   "execution_count": 6,
   "outputs": [
    {
     "name": "stdout",
     "output_type": "stream",
     "text": [
      "9 8 7\n"
     ]
    }
   ],
   "source": [
    "print(data[2][2], data[2][1], data[2][0])"
   ],
   "metadata": {
    "collapsed": false
   }
  },
  {
   "cell_type": "markdown",
   "source": [
    "### 연습 2: 다음 데이터셋에서 전체 이름 안에 'M'이 몇 번 나왔는지 빈도수 확인하기."
   ],
   "metadata": {
    "collapsed": false
   }
  },
  {
   "cell_type": "code",
   "execution_count": 8,
   "outputs": [],
   "source": [
    "dataset = [\n",
    "    'Braund, Mr. Owen Harris',\n",
    "    'Cumings, Mrs. John Bradley (Florence Briggs Thayer)',\n",
    "    'Heikkinen, Miss. Laina',\n",
    "    'Futrelle, Mrs. Jacques Heath (Lily May Peel)',\n",
    "    'Allen, Mr. William Henry',\n",
    "    'Moran, Mr. James',\n",
    "    'McCarthy, Mr. Timothy J',\n",
    "    'Palsson, Master. Gosta Leonard',\n",
    "    'Johnson, Mrs. Oscar W (Elisabeth Vilhelmina Berg)',\n",
    "    'Nasser, Mrs. Nicholas (Adele Achem)',\n",
    "    'Sandstrom, Miss. Marguerite Rut',\n",
    "    'Bonnell, Miss. Elizabeth',\n",
    "    'Saundercock, Mr. William Henry',\n",
    "    'Andersson, Mr. Anders Johan',\n",
    "    'Vestrom, Miss. Hulda Amanda Adolfina',\n",
    "    'Hewlett, Mrs. (Mary D Kingcome) ',\n",
    "    'Rice, Master. Eugene',\n",
    "    'Williams, Mr. Charles Eugene',\n",
    "    'Vander Planke, Mrs. Julius (Emelia Maria Vandemoortele)',\n",
    "    'Masselmani, Mrs. Fatima',\n",
    "    'Fynney, Mr. Joseph J',\n",
    "    'Beesley, Mr. Lawrence',\n",
    "    'McGowan, Miss. Anna \"Annie\"',\n",
    "    'Sloper, Mr. William Thompson',\n",
    "    'Palsson, Miss. Torborg Danira',\n",
    "    'Asplund, Mrs. Carl Oscar (Selma Augusta Emilia Johansson)',\n",
    "    'Emir, Mr. Farred Chehab',\n",
    "    'Fortune, Mr. Charles Alexander',\n",
    "    'Dwyer, Miss. Ellen \"Nellie\"',\n",
    "    'Todoroff, Mr. Lalio']"
   ],
   "metadata": {
    "collapsed": false
   }
  },
  {
   "cell_type": "code",
   "execution_count": 10,
   "outputs": [
    {
     "data": {
      "text/plain": "38"
     },
     "execution_count": 10,
     "metadata": {},
     "output_type": "execute_result"
    }
   ],
   "source": [
    "# answer 1\n",
    "frequency = 0\n",
    "for name in dataset:\n",
    "    frequency += name.count(\"M\")\n",
    "\n",
    "frequency"
   ],
   "metadata": {
    "collapsed": false
   }
  },
  {
   "cell_type": "code",
   "execution_count": 11,
   "outputs": [
    {
     "data": {
      "text/plain": "38"
     },
     "execution_count": 11,
     "metadata": {},
     "output_type": "execute_result"
    }
   ],
   "source": [
    "# answer 2\n",
    "frequency = 0\n",
    "for name in dataset:\n",
    "    for character in name:\n",
    "        if character == \"M\":\n",
    "            frequency += 1\n",
    "frequency"
   ],
   "metadata": {
    "collapsed": false
   }
  }
 ],
 "metadata": {
  "kernelspec": {
   "display_name": "Python 3",
   "language": "python",
   "name": "python3"
  },
  "language_info": {
   "codemirror_mode": {
    "name": "ipython",
    "version": 2
   },
   "file_extension": ".py",
   "mimetype": "text/x-python",
   "name": "python",
   "nbconvert_exporter": "python",
   "pygments_lexer": "ipython2",
   "version": "2.7.6"
  }
 },
 "nbformat": 4,
 "nbformat_minor": 0
}
